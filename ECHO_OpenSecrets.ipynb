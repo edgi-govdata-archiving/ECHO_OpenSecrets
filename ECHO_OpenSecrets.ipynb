{
 "cells": [
  {
   "cell_type": "markdown",
   "metadata": {
    "id": "UdGOD19kaRLB"
   },
   "source": [
    "| ![EEW logo](https://github.com/edgi-govdata-archiving/EEW-Image-Assets/blob/master/Jupyter%20instructions/eew.jpg?raw=true) | ![EDGI logo](https://github.com/edgi-govdata-archiving/EEW-Image-Assets/blob/master/Jupyter%20instructions/edgi.png?raw=true) |\n",
    "|---|---|\n",
    "\n",
    "This notebook is licensed under GPL 3.0. Please visit our [Github repo](https://github.com/edgi-govdata-archiving/ECHO-Cross-Program) for more information.\n",
    "\n",
    "The notebook was collaboratively authored by EDGI following our [authorship protocol](https://docs.google.com/document/d/1CtDN5ZZ4Zv70fHiBTmWkDJ9mswEipX6eCYrwicP66Xw/).\n",
    "\n",
    "For more information about this project, visit https://www.environmentalenforcementwatch.org/"
   ]
  },
  {
   "cell_type": "markdown",
   "metadata": {
    "id": "TDgxwY6aaRLK"
   },
   "source": [
    "## How to Run\n",
    "* A \"cell\" in a Jupyter notebook is a block of code performing a set of actions making available or using specific data.  The notebook works by running one cell after another, as the notebook user selects offered options.\n",
    "* If you click on a gray **code** cell, a little “play button” arrow appears on the left. If you click the play button, it will run the code in that cell (“**running** a cell”). The button will animate. When the animation stops, the cell has finished running.\n",
    "![Where to click to run the cell](https://github.com/edgi-govdata-archiving/EEW-Image-Assets/blob/master/Jupyter%20instructions/pressplay.JPG?raw=true)\n",
    "* You may get a warning that the notebook was not authored by Google. We know, we authored them! It’s okay. Click “Run Anyway” to continue. \n",
    "![Error Message](https://github.com/edgi-govdata-archiving/EEW-Image-Assets/blob/master/Jupyter%20instructions/warning-message.JPG?raw=true)\n",
    "* **It is important to run cells in order because they depend on each other.**\n",
    "* Run all of the cells in a Notebook to make a complete report. Please feel free to look at and **learn about each result as you create it**!"
   ]
  },
  {
   "cell_type": "markdown",
   "metadata": {
    "id": "Ad_p17bEaRLK"
   },
   "source": [
    "---"
   ]
  },
  {
   "cell_type": "markdown",
   "metadata": {
    "id": "5ci8OkjOaRLK"
   },
   "source": [
    "# **Let's begin!**"
   ]
  },
  {
   "cell_type": "markdown",
   "metadata": {
    "id": "Cyj_M3SXaRLL"
   },
   "source": [
    "Hover over the \"[ ]\" on the top left corner of the cell below and you should see a \"play\" button appear. Click on it to run the cell then move to the next one.\n",
    "\n",
    "These first two cells give us access to some external Python code we will need."
   ]
  },
  {
   "cell_type": "markdown",
   "metadata": {
    "id": "0x-fp6PTaRLL"
   },
   "source": [
    "### 1.  Bring in some code that is stored in a Github project, and run a few Python modules."
   ]
  },
  {
   "cell_type": "code",
   "execution_count": null,
   "metadata": {
    "id": "OZatef7xaRLL",
    "outputId": "a58677ab-3f81-4ae6-cdee-e5422e2adcab",
    "tags": []
   },
   "outputs": [],
   "source": [
    "# I installed dependencies in a python virtual env for this exercise\n",
    "!git clone https://github.com/edgi-govdata-archiving/ECHO_modules.git &>/dev/null;\n",
    "!pip install geopandas &>/dev/null;\n",
    "\n",
    "import warnings\n",
    "warnings.filterwarnings('ignore')\n",
    "\n",
    "# Added for new section 5.a\n",
    "from getpass import getpass\n",
    "import requests\n",
    "import xmltodict\n",
    "\n",
    "print(\"Done!\")"
   ]
  },
  {
   "cell_type": "markdown",
   "metadata": {
    "id": "JLhiK5h4aRLM"
   },
   "source": [
    "### 2.  Run this next cell to select which geography you wish to view ECHO data by.\n",
    "Choose the type of region and proceed to the next cell."
   ]
  },
  {
   "cell_type": "code",
   "execution_count": null,
   "metadata": {
    "colab": {
     "referenced_widgets": [
      "1e46767422de422c82c0a18a4e9e0af3"
     ]
    },
    "id": "Aa7yQGVqaRLM",
    "outputId": "a6f9b563-c6f4-4353-882f-2730547e080f"
   },
   "outputs": [],
   "source": [
    "from ECHO_modules.utilities import show_region_type_widget\n",
    "\n",
    "region_type_widget = show_region_type_widget()\n",
    "state_widget = None"
   ]
  },
  {
   "cell_type": "markdown",
   "metadata": {
    "id": "LwiZS8oeaRLM"
   },
   "source": [
    "### 3.  Select your state of interest.  _If you are interested in a zip code analysis, this can be skipped._"
   ]
  },
  {
   "cell_type": "code",
   "execution_count": null,
   "metadata": {
    "colab": {
     "referenced_widgets": [
      "146da0abba724efe8819732fa8f93dfe"
     ]
    },
    "id": "kQd3M7tBaRLN",
    "outputId": "a63c734a-0066-47a7-89e6-ee0e25d00ad4"
   },
   "outputs": [],
   "source": [
    "from ECHO_modules.utilities import show_state_widget\n",
    "\n",
    "state_widget = show_state_widget()"
   ]
  },
  {
   "cell_type": "markdown",
   "metadata": {
    "id": "EI858zKZaRLN"
   },
   "source": [
    "### 4.  Run this cell and choose the specific region you want to look at.\n",
    "It will ask you to specify which place you want to look at. If you want to look at an entire state, you should still run this cell, but you won't see any output.\n",
    "\n",
    "For reference, here is a map of congressional districts: https://www.govtrack.us/congress/members/map"
   ]
  },
  {
   "cell_type": "code",
   "execution_count": null,
   "metadata": {
    "colab": {
     "referenced_widgets": [
      "b6ba3763973a445d8e49dcaa6ee4ab38"
     ]
    },
    "id": "LH-8VrSTaRLN",
    "outputId": "7a355f67-9764-41d8-dfdb-7752fd4109f4",
    "scrolled": true
   },
   "outputs": [],
   "source": [
    "from ECHO_modules.utilities import show_pick_region_widget\n",
    "\n",
    "region_widget = None\n",
    "region_type = region_type_widget.value\n",
    "if ( region_type != 'State' ):\n",
    "    region_widget = show_pick_region_widget( type=region_type,\n",
    "                                           state_widget=state_widget )"
   ]
  },
  {
   "cell_type": "markdown",
   "metadata": {
    "id": "R8TpnjrPaRLN"
   },
   "source": [
    "### 5. Chart the top violators in the region for CAA, CWA and RCRA.\n",
    "The charts show the 20 facilities with the most quarters in non-compliance with these environmental protection laws over the past 3 years."
   ]
  },
  {
   "cell_type": "code",
   "execution_count": null,
   "metadata": {
    "id": "cqRSYx600lT9"
   },
   "outputs": [],
   "source": [
    "# Helper function for section 5.a to collect top 20 violators in each section\n",
    "def violator_facs(flag, df):\n",
    "    return [{\"flag\": flag, \"FAC_NAME\": i} for i in list(df.FAC_NAME)]"
   ]
  },
  {
   "cell_type": "code",
   "execution_count": null,
   "metadata": {
    "id": "tGG4dLXuaRLN",
    "outputId": "6b68ac04-b1a1-49dd-ffd7-377d99cf0b36",
    "scrolled": true
   },
   "outputs": [],
   "source": [
    "from ECHO_modules.utilities import get_active_facilities, get_top_violators, chart_top_violators\n",
    "\n",
    "state = state_widget.value if state_widget is not None else None\n",
    "region_selected = None\n",
    "\n",
    "violators = list()\n",
    "\n",
    "if ( region_type != 'State' ):\n",
    "    region_selected = region_widget.value\n",
    "df_active = get_active_facilities( state, region_type, region_selected )\n",
    "\n",
    "df_violators = get_top_violators( df_active, 'AIR_FLAG',  \n",
    "        'CAA_3YR_COMPL_QTRS_HISTORY', 'CAA_FORMAL_ACTION_COUNT', 20 )\n",
    "violators.extend(violator_facs(\"AIR_FLAG\", df_violators))\n",
    "display( chart_top_violators( df_violators, state, region_selected, 'CAA' ))\n",
    "\n",
    "df_violators = get_top_violators( df_active, 'NPDES_FLAG', \n",
    "        'CWA_13QTRS_COMPL_HISTORY', 'CWA_FORMAL_ACTION_COUNT', 20 )\n",
    "violators.extend(violator_facs(\"AIR_FLAG\", df_violators))\n",
    "display( chart_top_violators( df_violators, state, region_selected, 'CWA' ))\n",
    "\n",
    "df_violators = get_top_violators( df_active, 'RCRA_FLAG',  \n",
    "        'RCRA_3YR_COMPL_QTRS_HISTORY', 'RCRA_FORMAL_ACTION_COUNT', 20 )\n",
    "violators.extend(violator_facs(\"AIR_FLAG\", df_violators))\n",
    "display( chart_top_violators( df_violators, state, region_selected, 'RCRA' ))\n"
   ]
  },
  {
   "cell_type": "markdown",
   "metadata": {
    "id": "TdWFMc-20lT-"
   },
   "source": [
    "#### 5.a Exploration of methods to tie in campaign contributions\n",
    "This section looks at a process to bring in information from opensecrets.org on campaign contributions based on the active \"violators\" and a selection of a particular Congressional District. The idea came from the exercise that Kelsey ran us through in the ESIP Summer Meeting (July 23, 2021). This is a work in progress exploration of the idea with some thoughts on how it could be put into production.\n",
    "\n",
    "To facilitate this, I grabbed an API key from opensecrets.org to see what that looks like. My conclusion is that it might be useful to return and work with closer to real time information for those things they are tracking that change often. However, to actually use the dataset, establishing connections between organization/facility identifiers and other properties would be better done with some prep work using bulk data from OpenSecrets. I requested that as well, but my request needs to be approved.\n",
    "\n",
    "The following codeblocks are not something you'd want to include in a notebook like this. I provide it here to share some of the thinking and what might need to be done if you wanted to run a backend process via API vs. bulk data access."
   ]
  },
  {
   "cell_type": "code",
   "execution_count": null,
   "metadata": {
    "id": "vUTrLBeC0lT-",
    "outputId": "babf00f1-d3ba-4f28-ddae-ddb750c4d6a4"
   },
   "outputs": [],
   "source": [
    "# Get API key into memory with getpass()\n",
    "opensecrets_api_key = getpass(\"OPEN SECRETS API KEY: \")"
   ]
  },
  {
   "cell_type": "markdown",
   "metadata": {
    "id": "4vlrV_Uw0lT_"
   },
   "source": [
    "I put together a couple of things as functions, mostly to handle converting XML responses from the OpenSecrets API into python objects, which I find much easier to work with."
   ]
  },
  {
   "cell_type": "code",
   "execution_count": null,
   "metadata": {
    "id": "aTSm2cXW0lT_"
   },
   "outputs": [],
   "source": [
    "def os_check_org(org_name):\n",
    "    r = requests.get(f\"https://www.opensecrets.org/api/?method=getOrgs&org={org_name}&apikey={opensecrets_api_key}\")\n",
    "    if r.status_code != 200:\n",
    "        return\n",
    "    \n",
    "    d_org_response = xmltodict.parse(r.text, dict_constructor=dict)\n",
    "\n",
    "    if \"response\" in d_org_response and \"organization\" in d_org_response[\"response\"]:\n",
    "        if isinstance(d_org_response[\"response\"][\"organization\"], dict):\n",
    "            org_list = [d_org_response[\"response\"][\"organization\"]]\n",
    "        else:\n",
    "            org_list = d_org_response[\"response\"][\"organization\"]\n",
    "\n",
    "        orgs = list()\n",
    "        for org in org_list:\n",
    "            new_org = dict()\n",
    "            for k,v in org.items():\n",
    "                new_org[k.replace(\"@\",\"\")] = v\n",
    "                orgs.append(new_org)\n",
    "            \n",
    "        return orgs\n",
    "\n",
    "def os_legislators(state):\n",
    "    r = requests.get(f\"http://www.opensecrets.org/api/?method=getLegislators&id={state}&apikey={opensecrets_api_key}\")\n",
    "    if r.status_code != 200:\n",
    "        return\n",
    "    \n",
    "    d_legislators = xmltodict.parse(r.text, dict_constructor=dict)\n",
    "    return d_legislators\n",
    "    \n",
    "def os_org_contributions(orgid):\n",
    "    r = requests.get(f\"http://www.opensecrets.org/api/?method=orgSummary&id={orgid}&apikey={opensecrets_api_key}\")\n",
    "    if r.status_code != 200:\n",
    "        return\n",
    "    \n",
    "    d_org_contribs = xmltodict.parse(r.text, dict_constructor=dict)\n",
    "    return d_org_contribs\n",
    "\n",
    "def os_candidate(state, district):\n",
    "    state_district = f\"{state}0{str(district)}\"\n",
    "    legislators = os_legislators(state)\n",
    "    candidate = next((i for i in legislators[\"response\"][\"legislator\"] if i[\"@office\"] == state_district), None)\n",
    "    if candidate is not None:\n",
    "        return candidate\n",
    "    else:\n",
    "        return\n",
    "\n",
    "def os_cand_contributions(cid, cycle=\"2020\"):\n",
    "    r = requests.get(f\"https://www.opensecrets.org/api/?method=candContrib&cid={cid}&cycle={cycle}&apikey={opensecrets_api_key}\")\n",
    "    if r.status_code != 200:\n",
    "        return\n",
    "    \n",
    "    d_cand_contribs = xmltodict.parse(r.text, dict_constructor=dict)\n",
    "    return d_cand_contribs\n"
   ]
  },
  {
   "cell_type": "markdown",
   "metadata": {
    "id": "i3-dut7W0lT_"
   },
   "source": [
    "Notionally, in an app liks this we would want something responsive to the user input, diving into a particular state, county, congressional district, etc. I added something to the previous workflow to build top violators and plot those to add each set to an array for further use. That gives us the top 20 violators and the category/flag. I then pull out the unique \"FAC_NAME\" values, which appear to be the main thing to try and match to organization names in OpenSecrets."
   ]
  },
  {
   "cell_type": "code",
   "execution_count": null,
   "metadata": {
    "id": "WUzOGoJL0lUA",
    "outputId": "21bbd454-dc3c-4c6b-8d81-959d00f2deb9"
   },
   "outputs": [],
   "source": [
    "print(region_type_widget.value)\n",
    "print(state_widget.value)\n",
    "print(region_widget.value)\n",
    "\n",
    "violator_unique_names = list(set([i[\"FAC_NAME\"] for i in violators]))\n",
    "print(len(violator_unique_names))"
   ]
  },
  {
   "cell_type": "markdown",
   "metadata": {
    "id": "SqLqoQ_m0lUA"
   },
   "source": [
    "This is where the real bottlenecks are going to be and why a bulk data process to line up OpenSecrets data with what EDGI has in their data system will really be the way to go. There are thousands of individual facility names in the underlying EPA data, and trying to run those through a lookup process one at a time based on the OpenSecrets REST API is really not feasible. You might also need to pull mutiple pieces of information on facilities and organizations in the EPA data together in order to establish more certain links to OpenSecrets data. You could probably run these queries in parallel, but that might piss someone off on the OpenSecrets end."
   ]
  },
  {
   "cell_type": "code",
   "execution_count": null,
   "metadata": {
    "id": "_1OSUXkU0lUA",
    "outputId": "90a768cd-6da3-425c-e815-d609dbf9e240"
   },
   "outputs": [],
   "source": [
    "%%time\n",
    "os_fac_matches = list()\n",
    "for name in violator_unique_names:\n",
    "    os_fac_matches.append({\n",
    "        \"edgi_fac_name\": name,\n",
    "        \"os_org_records\": os_check_org(name)\n",
    "    })\n"
   ]
  },
  {
   "cell_type": "markdown",
   "metadata": {
    "id": "SHQZEKAp0lUA"
   },
   "source": [
    "From the looped check through our top violators for LA Congressional District 1, we get just a few hits. We also notice that the flightly fuzzy search on the OpenSecrets end come up with multiple results that might introduce some uncertainty."
   ]
  },
  {
   "cell_type": "code",
   "execution_count": null,
   "metadata": {
    "id": "eeK1RU3y0lUB",
    "outputId": "1fe730cf-2147-49fd-f3d8-b8ffb93306fb"
   },
   "outputs": [],
   "source": [
    "violators"
   ]
  },
  {
   "cell_type": "markdown",
   "metadata": {
    "id": "SZaohU7Y0lUB"
   },
   "source": [
    "Tying things back together from unique names and cleaning up the results for use, I only consider cases where there's an exact match on name and add unique OpenSecrets orgid values to the basic information collected as our top violators in each of three categories."
   ]
  },
  {
   "cell_type": "code",
   "execution_count": null,
   "metadata": {
    "id": "iXEbuioj0lUB"
   },
   "outputs": [],
   "source": [
    "top_violator_os_matches = list()\n",
    "for item in [i for i in os_fac_matches if i[\"os_org_records\"] is not None]:\n",
    "    possible_matches = [i for i in item[\"os_org_records\"] if i[\"orgname\"].lower() == item[\"edgi_fac_name\"].lower()]\n",
    "    if possible_matches:\n",
    "        edgi_record = next((i for i in violators if i[\"FAC_NAME\"] == item[\"edgi_fac_name\"]), None)\n",
    "        if edgi_record is not None:\n",
    "            edgi_record[\"os_orgids\"] = list(set([i[\"orgid\"] for i in possible_matches]))\n",
    "            top_violator_os_matches.append(edgi_record)\n"
   ]
  },
  {
   "cell_type": "markdown",
   "metadata": {
    "id": "C5QpL6-M0lUB"
   },
   "source": [
    "Out of the top violators, we only have one that has an exact match by name. That's a starting point, but we really need to do the harder work of munging things together on who these organizations actually are and getting as many identifiers lined up between the two systems as we can. Then everything else will come together."
   ]
  },
  {
   "cell_type": "code",
   "execution_count": null,
   "metadata": {
    "id": "IdP_KOQm0lUB",
    "outputId": "5edd21b2-67c6-4ca6-bae3-94f0df1138fe"
   },
   "outputs": [],
   "source": [
    "top_violator_os_matches"
   ]
  },
  {
   "cell_type": "markdown",
   "metadata": {
    "id": "UYPicXrd0lUC"
   },
   "source": [
    "This is where I've kind of begged off this particular approach. We can hit another API end point from OpenSecrets on orgids we've managed to link and get campaign contrbutions, but what we're seeing is highly denormalized data where we have lots of other identifiers we have to put back together. If you go visit the web site referenced in this record, we can see that \"BAY LTD\" gave $367 from an individual to the campaign of Steve Scalise in 2020."
   ]
  },
  {
   "cell_type": "code",
   "execution_count": null,
   "metadata": {
    "id": "N25RaSmf0lUC",
    "outputId": "46525c3a-86d0-48b5-e229-9fd59abd96e0"
   },
   "outputs": [],
   "source": [
    "for v in top_violator_os_matches:\n",
    "    print(v[\"FAC_NAME\"], v[\"flag\"])\n",
    "    for orgid in v[\"os_orgids\"]:\n",
    "        display(os_org_contributions(orgid))"
   ]
  },
  {
   "cell_type": "markdown",
   "metadata": {
    "id": "M9Q0I6Ur0lUC"
   },
   "source": [
    "I took this about as far as I can from this point. The actual funding data through the API appears to be summarized to the top (n) contributions and will not provide everything. I can plug in state and district to get the candidate and their ID and then get their top contributions for a given election cycle, but this does not turn anything up for our particular violator that we could get a match on. The web page lists a number for Bay Ltd, so it must be in OpenSecrets' data. We'll have to see if they supply that in their bulk data download."
   ]
  },
  {
   "cell_type": "code",
   "execution_count": null,
   "metadata": {
    "id": "t8wgxgBW0lUC",
    "outputId": "722fd503-b74e-4c90-dc79-8d6b5f5454ae"
   },
   "outputs": [],
   "source": [
    "candidate = os_candidate(state_widget.value, region_widget.value)\n",
    "candidate"
   ]
  },
  {
   "cell_type": "code",
   "execution_count": null,
   "metadata": {
    "id": "F_wCLxGr0lUC",
    "outputId": "cae7f54e-3bce-4dac-97c9-52df9c3f879c"
   },
   "outputs": [],
   "source": [
    "contributions = os_cand_contributions(candidate[\"@cid\"])\n",
    "contributions"
   ]
  }
 ],
 "metadata": {
  "colab": {
   "name": "ECHO-OpenSecrets.ipynb",
   "provenance": []
  },
  "kernelspec": {
   "display_name": "Python 3",
   "language": "python",
   "name": "python3"
  },
  "language_info": {
   "codemirror_mode": {
    "name": "ipython",
    "version": 3
   },
   "file_extension": ".py",
   "mimetype": "text/x-python",
   "name": "python",
   "nbconvert_exporter": "python",
   "pygments_lexer": "ipython3",
   "version": "3.8.5"
  }
 },
 "nbformat": 4,
 "nbformat_minor": 1
}
